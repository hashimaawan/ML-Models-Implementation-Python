{
 "cells": [
  {
   "cell_type": "markdown",
   "metadata": {},
   "source": [
    "## NLP MACHINELEARNING ALGORITHMS IMPLEMENTATION"
   ]
  },
  {
   "cell_type": "markdown",
   "metadata": {},
   "source": [
    "HERE ARE SOME OF THE ALGORITHMS DEMO FOR BASIC UNDERSTANDING OF THEM"
   ]
  },
  {
   "cell_type": "markdown",
   "metadata": {},
   "source": [
    "## Naïve Bayes – Used in Spam Filtering\n",
    "\n",
    "Naïve Bayes is a probabilistic classifier based on Bayes' theorem. It assumes that features are conditionally independent given the class label."
   ]
  },
  {
   "cell_type": "code",
   "execution_count": 5,
   "metadata": {},
   "outputs": [
    {
     "name": "stdout",
     "output_type": "stream",
     "text": [
      "Prediction: [1]\n",
      "Prediction: [0]\n"
     ]
    }
   ],
   "source": [
    "from sklearn.feature_extraction.text import CountVectorizer\n",
    "from sklearn.naive_bayes import MultinomialNB\n",
    "from sklearn.pipeline import make_pipeline\n",
    "\n",
    "# Sample data: spam and ham emails\n",
    "emails = [\"Win a free lottery now!\", \"Meeting at 3 PM today\", \"Congratulations! You won a prize!\", \"Project deadline extended\",\"University will observe holiday tomorrow\"]\n",
    "labels = [1, 0, 1, 0,0]  # 1 = spam, 0 = not spam\n",
    "\n",
    "# Model pipeline: Vectorizer + Naive Bayes\n",
    "model = make_pipeline(CountVectorizer(), MultinomialNB())\n",
    "\n",
    "# Train the model\n",
    "model.fit(emails, labels)\n",
    "\n",
    "# Test on new data\n",
    "test_email_1 = [\"Get your free vacation now!\"]\n",
    "test_email_2 = [\"You can join the meeting at 2 pm\"]\n",
    "print(\"Prediction:\", model.predict(test_email_1))  # Output: [1] (spam)\n",
    "print(\"Prediction:\", model.predict(test_email_2))  # Output: [1] (ham)\n"
   ]
  },
  {
   "cell_type": "markdown",
   "metadata": {},
   "source": [
    "## Logistic Regression – Used for Sentiment Classification"
   ]
  },
  {
   "cell_type": "markdown",
   "metadata": {},
   "source": [
    "Logistic Regression is a linear classifier used for binary classification, estimating probabilities using the sigmoid function."
   ]
  },
  {
   "cell_type": "code",
   "execution_count": null,
   "metadata": {},
   "outputs": [
    {
     "name": "stdout",
     "output_type": "stream",
     "text": [
      "Prediction: [1]\n",
      "Prediction: [0]\n"
     ]
    }
   ],
   "source": [
    "from sklearn.feature_extraction.text import TfidfVectorizer\n",
    "from sklearn.linear_model import LogisticRegression\n",
    "\n",
    "# Sample data:\n",
    "reviews = [\"I love this product!\", \"Worst experience ever\", \"Highly recommend!\", \"Not worth the money\"]\n",
    " # 1 = Positive, 0 = Negative\n",
    "labels = [1, 0, 1, 0] \n",
    "\n",
    "# Vectorization + Logistic Regression\n",
    "vectorizer = TfidfVectorizer()\n",
    "X_train = vectorizer.fit_transform(reviews)\n",
    "model = LogisticRegression()\n",
    "model.fit(X_train, labels)\n",
    "\n",
    "# Test on new review\n",
    "test_review = [\"Amazing product\"]\n",
    "X_test = vectorizer.transform(test_review)\n",
    "test_review2 = [\"1 star\"]\n",
    "X_test = vectorizer.transform(test_review)\n",
    "X_test2 = vectorizer.transform(test_review2)\n",
    "print(\"Prediction:\", model.predict(X_test))  # Output: [1] (Positive sentiment)\n",
    "print(\"Prediction:\", model.predict(X_test2))  # Output: [0] (Negative sentiment)\n"
   ]
  },
  {
   "cell_type": "markdown",
   "metadata": {},
   "source": [
    "## Support Vector Machines (SVM) – Used for Text Categorization"
   ]
  },
  {
   "cell_type": "markdown",
   "metadata": {},
   "source": [
    "SVM finds an optimal hyperplane that maximizes the margin between different categories."
   ]
  },
  {
   "cell_type": "code",
   "execution_count": null,
   "metadata": {},
   "outputs": [
    {
     "name": "stdout",
     "output_type": "stream",
     "text": [
      "Prediction: [1]\n"
     ]
    }
   ],
   "source": [
    "from sklearn.svm import SVC\n",
    "from sklearn.feature_extraction.text import CountVectorizer\n",
    "\n",
    "# Sample text categorization data\n",
    "texts = [\"Politics news from today\", \"Latest advancements in AI\", \"Government policies updated\", \"New AI model released\"]\n",
    " # 0 = Politics, 1 = AI\n",
    "categories = [0, 1, 0, 1] \n",
    "\n",
    "# Convert text to features\n",
    "vectorizer = CountVectorizer()\n",
    "X_train = vectorizer.fit_transform(texts)\n",
    "\n",
    "# Train SVM\n",
    "model = SVC(kernel=\"linear\")\n",
    "model.fit(X_train, categories)\n",
    "\n",
    "# Test on a new text\n",
    "test_text = [\"Breaking news about AI\"]\n",
    "X_test = vectorizer.transform(test_text)\n",
    "print(\"Prediction:\", model.predict(X_test))  # Output: [1] (AI category)\n"
   ]
  },
  {
   "cell_type": "code",
   "execution_count": null,
   "metadata": {},
   "outputs": [],
   "source": []
  }
 ],
 "metadata": {
  "kernelspec": {
   "display_name": "base",
   "language": "python",
   "name": "python3"
  },
  "language_info": {
   "codemirror_mode": {
    "name": "ipython",
    "version": 3
   },
   "file_extension": ".py",
   "mimetype": "text/x-python",
   "name": "python",
   "nbconvert_exporter": "python",
   "pygments_lexer": "ipython3",
   "version": "3.12.4"
  }
 },
 "nbformat": 4,
 "nbformat_minor": 2
}
